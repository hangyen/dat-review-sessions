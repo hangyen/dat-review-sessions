{
 "cells": [
  {
   "cell_type": "markdown",
   "metadata": {},
   "source": [
    "# Data Workflow Review\n",
    "\n",
    "First thing to know - there are no hard and fast rules in data science. When you're a beginner, it's kind of like throwing spaghetti at a wall and seeing what sticks. If you're more advanced, it's still like throwing spaghetti at a wall but you'll be able to judge what sticks and what might fall off better. So it's all about iteration, trying new things, getting creative, and tuning your model until you run out of time or money :)\n"
   ]
  },
  {
   "cell_type": "markdown",
   "metadata": {},
   "source": [
    "## The Basics\n",
    "You need to know these concepts very well! This is the foundation that you need to understand all the things you do to your data."
   ]
  },
  {
   "cell_type": "markdown",
   "metadata": {},
   "source": [
    "**Continous vs Categorical**\n",
    "- Continuous - measurement on continuous scale - age, height, money\n",
    "- Categorical - discrete variables - yes/no, on/off, happy/sad"
   ]
  },
  {
   "cell_type": "markdown",
   "metadata": {},
   "source": [
    "**Features vs observations vs target**\n",
    "- Features => columns\n",
    "- Observations => rows\n",
    "- Target => column that you're trying to predict"
   ]
  },
  {
   "cell_type": "markdown",
   "metadata": {},
   "source": [
    "**Supervised vs Unsupervised learning**\n",
    "- Supervised => you have the answers in your dataset\n",
    "- Unsupervised => you don't know the answers"
   ]
  },
  {
   "cell_type": "markdown",
   "metadata": {},
   "source": [
    "**Regression vs Classification**\n",
    "- Regression => predict relationship between variables - good to predict for continuous variables\n",
    "- Classification => predict categories, puts data in buckets i.e. is this a malignant or benign tumor? "
   ]
  },
  {
   "cell_type": "code",
   "execution_count": 3,
   "metadata": {},
   "outputs": [],
   "source": [
    "#### Some of our Supervised models:\n",
    "\n",
    "## Regression\n",
    "from sklearn.linear_model import LinearRegression, Ridge, Lasso, ElasticNet\n",
    "# Some other ones you could look into:\n",
    "from sklearn.svm import SVR\n",
    "from sklearn.linear_model import SGDRegressor\n",
    "from sklearn.ensemble import RandomForestRegressor, AdaBoostRegressor, GradientBoostingRegressor\n",
    "\n",
    "## Classification \n",
    "from sklearn.linear_model import LogisticRegression\n",
    "from sklearn.linear_model import SGDClassifier\n",
    "from sklearn.neighbors import KNeighborsClassifier\n",
    "# Some other ones you could look into:\n",
    "from sklearn.svm import SVC\n",
    "from sklearn.naive_bayes import BernoulliNB, MultinomialNB\n",
    "from sklearn.neighbors import NearestNeighbors\n",
    "from sklearn.ensemble import RandomForestClassifier, AdaBoostClassifier, GradientBoostingClassifier"
   ]
  },
  {
   "cell_type": "code",
   "execution_count": null,
   "metadata": {},
   "outputs": [],
   "source": [
    "#### Some of our Unsupervised models:\n",
    "from sklearn.cluster import KMeans\n",
    "\n",
    "# Some other ones you could look into:\n",
    "from sklearn.cluster import DBSCAN, SpectralClustering, hierarchical, linkage_tree\n",
    "from sklearn.neighbors import LSHForest"
   ]
  },
  {
   "cell_type": "markdown",
   "metadata": {},
   "source": [
    "**Overfitting vs Underfitting aka Bias-Variance Tradeoff**\n",
    "- https://www.kdnuggets.com/2016/08/bias-variance-tradeoff-overview.html"
   ]
  },
  {
   "cell_type": "markdown",
   "metadata": {},
   "source": [
    "## The Step by Step Process\n",
    "\n",
    "The key here is to always use your brain!!! You can get lost in all the different tools and techniques that we show you but you need to remember to think about the problem you're trying to solve before diving into these tools and techniques. \n"
   ]
  },
  {
   "cell_type": "markdown",
   "metadata": {},
   "source": [
    "## **1. Get the data**\n",
    "- How much data do you have? ROT: >300 observations is minimum \n",
    "- What kind of data is it? Is it mostly text? Mostly continuous? Mostly categorical? Time based? A combo? Any ordinals that you have to take into account?\n",
    "- What do you want to use this data to predict? Would this be a supervised learning model or unsupervised learning model?\n",
    "- If supervised, is this going to be a regression or classification problem?"
   ]
  },
  {
   "cell_type": "code",
   "execution_count": null,
   "metadata": {
    "collapsed": true
   },
   "outputs": [],
   "source": []
  },
  {
   "cell_type": "markdown",
   "metadata": {},
   "source": [
    "## **2. Load the data**\n",
    "- Is your data csv? json? some other file? coming from a database?\n",
    "- Different type of files require different methods to load in"
   ]
  },
  {
   "cell_type": "code",
   "execution_count": 4,
   "metadata": {},
   "outputs": [],
   "source": [
    "import pandas as pd"
   ]
  },
  {
   "cell_type": "code",
   "execution_count": null,
   "metadata": {
    "collapsed": true
   },
   "outputs": [],
   "source": [
    "df = pd.read_csv('[file]')\n",
    "\n",
    "# from tab separated file: (This can be any delimeter!)\n",
    "df = pd.read_csv('[file].txt', sep='\\t')\n",
    "\n",
    "# from URL:\n",
    "df = pd.read_csv('http:// ... /[file].csv')\n",
    "\n",
    "df = pd.read_json('[json object]')\n",
    "df = pd.read_parquet('[parquet file]')"
   ]
  },
  {
   "cell_type": "markdown",
   "metadata": {},
   "source": [
    "## **3. Test Train Split**\n",
    "- Why here? Because it prevents data leakage!\n",
    "\n",
    "**What is Data leakage??**\n",
    "\n",
    "Let's say for instance you decide to test train split after you finish cleaning, feature engineering and scaling. There are multiple ways that this causes data leakage:\n",
    " - You impute nulls based on the mean -- you found the mean by using the the whole dataset, not just the training data set - you've leaked the mean from the test set into your train set\n",
    " - You do a standard scalar - you're using the std of the whole dataset, not just the train set - you've leaked the std from your test set to your train set\n",
    " - You create new features by adding the median of a column to each row - your median would be different if you were just using the train set -- you've leaked the median from your test set to your train set. "
   ]
  },
  {
   "cell_type": "code",
   "execution_count": null,
   "metadata": {},
   "outputs": [],
   "source": [
    "# Train test split\n",
    "from sklearn.model_selection import train_test_split\n",
    "X_train, X_test, y_train, y_test = train_test_split(X, y, test_size=0.1, random_state=42)\n",
    "\n",
    "# You can also make this stratified!\n",
    "X_train, X_test, y_train, y_test = train_test_split(X, y, stratify=y, test_size=0.1, random_state=42)"
   ]
  },
  {
   "cell_type": "code",
   "execution_count": null,
   "metadata": {},
   "outputs": [],
   "source": [
    "# imput missing values\n",
    "X_train['column_missing_values'].fillna(X_train['columncolumn_missing_values'].median(), inplace=True)\n",
    "X_test['column_missing_values'].fillna(X_train['columncolumn_missing_values'].median(), inplace=True)"
   ]
  },
  {
   "cell_type": "code",
   "execution_count": null,
   "metadata": {},
   "outputs": [],
   "source": []
  },
  {
   "cell_type": "markdown",
   "metadata": {},
   "source": [
    "## **4. Clean & Explore the Data (only on the train set)**\n",
    "\n",
    "Why do we do this??\n",
    "\n",
    "This part should inform your feature engineering! What are the relationships you see between features? Can you combine them? What new features would you want to make from the data that you currently have?"
   ]
  },
  {
   "cell_type": "markdown",
   "metadata": {},
   "source": [
    "- Check for nulls\n",
    "    - If you have a lot of nulls in one feature/row - maybe best to just get rid of that feature/row in your model\n",
    "    - If you have only 5% nulls in a feature/row - maybe better to impute\n",
    "    - Understand how your impute methods will affect your data \n",
    "    - Do you want to impute with the mean? the median? some other value? why/why not?\n",
    "    - `df.isnull().sum()` is helpful here"
   ]
  },
  {
   "cell_type": "code",
   "execution_count": null,
   "metadata": {
    "collapsed": true
   },
   "outputs": [],
   "source": []
  },
  {
   "cell_type": "markdown",
   "metadata": {},
   "source": [
    "- Check the distribution\n",
    "    - If you're doing a linear regression, you want distributions to be normal. Why??\n",
    "    - Histograms are helpful here!\n",
    "    - Remember - before you graph, you must clean your data for nulls. Graphing also does not work if there's text in your data\n"
   ]
  },
  {
   "cell_type": "code",
   "execution_count": null,
   "metadata": {
    "collapsed": true
   },
   "outputs": [],
   "source": []
  },
  {
   "cell_type": "markdown",
   "metadata": {},
   "source": [
    "- Check for outliers -> decide what to do with outliers\n",
    "    - You can get rid of them - know how this will affect your data\n",
    "    - You can keep some of them - know how this will affect your data\n",
    "    - Anything else you can do with outliers?\n",
    "    - Boxplots are helpful here!\n"
   ]
  },
  {
   "cell_type": "code",
   "execution_count": null,
   "metadata": {
    "collapsed": true
   },
   "outputs": [],
   "source": []
  },
  {
   "cell_type": "markdown",
   "metadata": {},
   "source": [
    "- Check for correlations\n",
    "    - `df.corr()` is helpful here\n",
    "    - This gives you how correlated two features are to each other\n",
    "    - Why is this important? \n",
    "    - `sns.heatmap()` is helpful here\n"
   ]
  },
  {
   "cell_type": "code",
   "execution_count": null,
   "metadata": {
    "collapsed": true
   },
   "outputs": [],
   "source": []
  },
  {
   "cell_type": "markdown",
   "metadata": {},
   "source": [
    "- Check for colinearity\n",
    "    - How correlated are your features to EACH other (not to the target)\n",
    "    - How *many* of these features are correlated to EACH other?\n",
    "    - If you find colinearity, you can either pick features to put into the model that are NOT correlated with each other \n",
    "    - OR usually the case is you have many features that are correlated to each other OR if you have just a TON of features that you want to include - you would want to now keep in the back of your mind that you are gonna use a regularized model\n"
   ]
  },
  {
   "cell_type": "code",
   "execution_count": null,
   "metadata": {
    "collapsed": true
   },
   "outputs": [],
   "source": []
  },
  {
   "cell_type": "markdown",
   "metadata": {},
   "source": [
    "## **5. Feature Engineering**\n",
    "\n",
    "Why do we feature engineer???\n",
    "- What other features might I want?\n",
    "    - Create new features - you're given year a house is built, maybe you want to subtract that from 2018 to find house age\n",
    "    - Log, square, cube a feature - why? because it might give you a normal distribution or just have better correlation to your target\n",
    "    - Group the feature into a binary - ordinal scales 1-5 (>3 is good is 1, <3 is bad =0)\n",
    "    - Make dummies! Why? `pd.get_dummies()` is helpful here, remember to always remove the last column in a df of dummies. Why?\n",
    "    - There are many ways that you can feature engineer - this is the fun part, where creativity comes in and this is the part where you will revisit most often when you find that your model is not performing so hot. Think about what features would influence your predictor, use your brain!!!\n"
   ]
  },
  {
   "cell_type": "code",
   "execution_count": null,
   "metadata": {
    "collapsed": true
   },
   "outputs": [],
   "source": []
  },
  {
   "cell_type": "code",
   "execution_count": null,
   "metadata": {
    "collapsed": true
   },
   "outputs": [],
   "source": []
  },
  {
   "cell_type": "code",
   "execution_count": null,
   "metadata": {
    "collapsed": true
   },
   "outputs": [],
   "source": []
  },
  {
   "cell_type": "markdown",
   "metadata": {},
   "source": [
    "## **6. Modeling!!**"
   ]
  },
  {
   "cell_type": "markdown",
   "metadata": {},
   "source": [
    "### 1. Create your target (y) variable and your feature matrix (X)"
   ]
  },
  {
   "cell_type": "code",
   "execution_count": null,
   "metadata": {
    "collapsed": true
   },
   "outputs": [],
   "source": [
    "y = admissions_data['admit']\n",
    "X = admissions_data.drop('admit', axis=1)"
   ]
  },
  {
   "cell_type": "code",
   "execution_count": null,
   "metadata": {},
   "outputs": [],
   "source": [
    "# You may also want to define certain columns in your feature set already, so maybe you have something like:\n",
    "features = ['num_rooms','num_bathrooms', ..., 'num_rooms_div_bathrooms']\n",
    "X = admissions_data[features]"
   ]
  },
  {
   "cell_type": "markdown",
   "metadata": {},
   "source": [
    "### 2. **To Scale or Not to Scale** \n",
    "\n",
    "**Why and when should I scale?** \n",
    "\n",
    "*Annoying answer - It depends!*\n",
    "\n",
    "- Scaling normalizes your features - this means that if you had one feature set that had a range from 10K- 100K, and a feature set from 1 to 10, scaling will put them on the same range and not put undue importance on the larger feature set.\n",
    "    - Example - sqft of bathrooms vs sqft of bedrooms \n",
    "    - Generally, if you're using models that use distance/magnitude, you want to scale:\n",
    "        - in most cases, you will scale except for decision trees\n",
    "        - When in doubt - scale, it doesn't hurt.\n",
    "    \n",
    "**How should I scale?**\n",
    "\n",
    "*Annoying answer - It depends!*\n",
    " \n",
    " Two most common ways are: Standard Scalar and Min Max scalar\n",
    "    \n",
    "When do I use `Standard Scalar`?\n",
    "- Centers your data around 0, aka z-score normalization - good for comparing measurements with different units\n",
    "- More popular method \n",
    "    \n",
    "When do I use Min Max Scaler?\n",
    "- Scales everything between 0 and 1\n",
    "- Makes std smaller, suppresses effects of outliers\n",
    "- Good for image processing\n",
    "\n",
    "Read more: \n",
    "- http://sebastianraschka.com/Articles/2014_about_feature_scaling.html#about-min-max-scaling\n",
    "- http://rajeshmahajan.com/standard-scaler-v-min-max-scaler-machine-learning/\n",
    "\n"
   ]
  },
  {
   "cell_type": "markdown",
   "metadata": {},
   "source": []
  },
  {
   "cell_type": "code",
   "execution_count": null,
   "metadata": {},
   "outputs": [],
   "source": [
    "# Scaling! When is this important?!\n",
    "from sklearn.preprocessing import StandardScaler\n",
    "\n",
    "# Notice, like the rest of Sklearn, it is a class!\n",
    "scaler = StandardScaler()\n",
    "\n",
    "X_train = pd.DataFrame(scaler.fit_transform(X_train))\n",
    "\n",
    "# Notice we fit and transform on the X_train, but we ONLY transform the test.\n",
    "X_test = pd.DataFrame(scaler.transform(X_test))"
   ]
  },
  {
   "cell_type": "code",
   "execution_count": null,
   "metadata": {},
   "outputs": [],
   "source": []
  },
  {
   "cell_type": "markdown",
   "metadata": {},
   "source": [
    "### 3. Fit\n",
    "\n",
    "What model are you planning to use and why? \n",
    "- Understanding strengths and weaknesses of each algorithm is very important:\n",
    "https://elitedatascience.com/machine-learning-algorithms\n",
    "- Never fit on your test set!!! Why?\n",
    "\n",
    "\n",
    "**Always think about what your loss function is!**\n",
    "http://ml-cheatsheet.readthedocs.io/en/latest/loss_functions.html\n",
    "\n",
    "**If you are curious, take a look at some math of optimizers!**  \n",
    "* SGD Flavor: http://ruder.io/optimizing-gradient-descent/\n",
    "* Non SGD Guide (some SGD is in there though...): https://www.scipy-lectures.org/advanced/mathematical_optimization/index.html\n",
    "\n",
    "\n",
    "**To regularize or not to regularize?**\n",
    "\n",
    "What is regularization? Why do we do it?\n",
    "- It helps prevent overfitting\n",
    "- It's a method that penalizes the loss function so that it can find the most optimal coefficients\n",
    "- Only available for linear and logistic regression\n"
   ]
  },
  {
   "cell_type": "code",
   "execution_count": 4,
   "metadata": {},
   "outputs": [
    {
     "name": "stdout",
     "output_type": "stream",
     "text": [
      "[256.0, 196.25, 145.0, 102.25, 68.0, 42.25, 25.0, 16.25, 16.0, 24.25, 41.0, 66.25, 100.0, 142.25, 193.0, 252.25, 320.0, 396.25, 481.0, 574.25]\n"
     ]
    },
    {
     "data": {
      "text/plain": [
       "[<matplotlib.lines.Line2D at 0x10bac9b70>]"
      ]
     },
     "execution_count": 4,
     "metadata": {},
     "output_type": "execute_result"
    },
    {
     "data": {
      "image/png": "[encoded data removed]",
      "text/plain": [
       "<matplotlib.figure.Figure at 0x1086930b8>"
      ]
     },
     "metadata": {},
     "output_type": "display_data"
    }
   ],
   "source": [
    "#illustrating regularization:\n",
    "\n",
    "import numpy as np\n",
    "import matplotlib.pyplot as plt\n",
    "%matplotlib inline\n",
    "\n",
    "x = 2\n",
    "y_predicted = 20\n",
    "b0 = 4\n",
    "alpha = .5\n",
    "\n",
    "error_lst = []\n",
    "for b1 in range(0, 20):\n",
    "    error = (y_predicted - b1*x - b0)**2 + (alpha*b1)**2\n",
    "    error_lst.append(error)\n",
    "print(error_lst)\n",
    "\n",
    "plt.plot(error_lst)"
   ]
  },
  {
   "cell_type": "markdown",
   "metadata": {},
   "source": [
    "#### Pipelines!\n",
    "_A quick aside_\n",
    "\n",
    "* These are a nice wrapper around any objects that follow the sklearn class structure (ie. with .fit() and .transform())  \n",
    "* http://queirozf.com/entries/scikit-learn-pipeline-examples"
   ]
  },
  {
   "cell_type": "code",
   "execution_count": null,
   "metadata": {},
   "outputs": [],
   "source": [
    "from sklearn.pipeline import Pipeline\n",
    "\n",
    "# it takes a list of tuples as parameter\n",
    "pipeline = Pipeline([\n",
    "    ('scaler',StandardScaler()),\n",
    "    ('clf', LogisticRegression())\n",
    "])\n",
    "\n",
    "# use the pipeline object as you would\n",
    "# a regular classifier\n",
    "pipeline.fit(X_train,y_train)"
   ]
  },
  {
   "cell_type": "markdown",
   "metadata": {},
   "source": [
    "**To Gridsearch or not to Gridsearch?**\n",
    "\n",
    "**What is gridsearch?**\n",
    "- It's a method to iteratively tune our model and see which are the best hyperparameter values for our model\n",
    "\n",
    "**Why do we gridsearch?** \n",
    "- It lets us tune hyperparameters easily so we don't have to manually loop through hyperparameters\n",
    "\n",
    "**What are some hyperparameters?**\n",
    "- alpha/C - regularization\n",
    "- k - number of neighbors for knn\n",
    "- number of clusters - kmeans\n"
   ]
  },
  {
   "cell_type": "code",
   "execution_count": null,
   "metadata": {
    "collapsed": true
   },
   "outputs": [],
   "source": [
    "from sklearn.model_selection import GridSearchCV\n",
    "\n",
    "param_grid = param_grid = {\n",
    "    'C':[0.01, 0.1, 1.0]\n",
    "}\n",
    "\n",
    "grid = GridSearchCV(LogisticRegression(), cv=3, param_grid=param_grid)\n",
    "grid.fit(X_train,y_train)\n",
    "\n",
    "preds = grid.predict_proba(X_test)"
   ]
  },
  {
   "cell_type": "markdown",
   "metadata": {},
   "source": [
    "_Another quick aside on Pipelines!_\n",
    "\n",
    "You can use pipelines AND GridsearchCV"
   ]
  },
  {
   "cell_type": "code",
   "execution_count": null,
   "metadata": {},
   "outputs": [],
   "source": [
    "pipeline = Pipeline([\n",
    "    ('scaler',StandardScaler()),\n",
    "    ('clf', LogisticRegression())\n",
    "])\n",
    "\n",
    "# this is where you define the values for\n",
    "# GridSearchCV to iterate over\n",
    "param_grid = {\n",
    "    'clf__C':[0.01,0.1,1.0]\n",
    "}\n",
    "\n",
    "# do 3-fold cross validation for each of the 6 possible\n",
    "# combinations of the parameter values above\n",
    "grid = GridSearchCV(pipeline, cv=3, param_grid=param_grid)\n",
    "grid.fit(X_train,y_train)"
   ]
  },
  {
   "cell_type": "markdown",
   "metadata": {},
   "source": [
    "**To cross_validate or not to cross_validate?**\n",
    "\n",
    "*Answer:* Always cross validate!\n",
    "\n",
    "**What is cross_validation?**\n",
    "- Another method of doing test train split\n",
    "\n",
    "**Why do we do cross_validation?**\n",
    "- So that we can see if our model is underfitted or overfitted\n",
    "- Allows for better tuning before we use our test set. \n"
   ]
  },
  {
   "cell_type": "code",
   "execution_count": null,
   "metadata": {
    "collapsed": true
   },
   "outputs": [],
   "source": []
  },
  {
   "cell_type": "markdown",
   "metadata": {},
   "source": [
    "### 4. Score & Interpret your Results\n"
   ]
  },
  {
   "cell_type": "markdown",
   "metadata": {},
   "source": [
    "**What is the metric we use to measure regression? How about classification?**\n",
    "\n",
    "- Regressions - R2 score\n",
    "- Classficiations - accuracy\n",
    "\n",
    "**How do you interpret an R2 score?**\n",
    "- R2 = .83 => \"the model explains 83% of the variance in the data\"\n",
    "- Is that good or bad? => the closer to 1 the better\n",
    "- In linear regressions, how do you interpret coefficients? How about rmse? \n",
    "\n",
    "**How do you interpret an accuracy score?**\n",
    "- Accuracy = .90 => the model is correct 90% of the time\n",
    "- Is that good or bad? Depends on the baseline!!\n",
    "\n",
    "**What if you cross validated and your scores are all over the place?**\n",
    "- That means your model is overfitted!\n",
    "- What do you do then? - Go back to Step 5 - Feature Engineering!\n"
   ]
  },
  {
   "cell_type": "markdown",
   "metadata": {},
   "source": [
    "**Check this page out:** http://scikit-learn.org/stable/modules/model_evaluation.html"
   ]
  },
  {
   "cell_type": "code",
   "execution_count": null,
   "metadata": {
    "collapsed": true
   },
   "outputs": [],
   "source": [
    "#### Some of our supervised metrics\n",
    "\n",
    "## Regression\n",
    "from sklearn.metrics import r2_score, mean_squared_error, mean_absolute_error\n",
    "\n",
    "## Classification \n",
    "from sklearn.metrics import accuracy_score, precision_score, recall_score, f1_score, matthews_corrcoef, roc_auc_score\n",
    "\n",
    "# Classification Loss Functions (for error)\n",
    "from sklearn.metrics import log_loss, hinge_loss, hamming_loss\n",
    "\n",
    "# We also have our confusion matrix, plots and reports\n",
    "from sklearn.metrics import classification_report, confusion_matrix\n",
    "from sklearn.metrics import roc_curve, precision_recall_curve"
   ]
  },
  {
   "cell_type": "markdown",
   "metadata": {},
   "source": [
    "### 6. Score & Predict on Test Set\n",
    "**When should you bring in the test set?**\n",
    "- Only when you're confident of your model i.e. your scores are consistent\n",
    "- Score your test set, get the predictions, plot residuals or create confusion matrix\n",
    "- **Remember that ANYTHING YOU DO TO YOUR TRAIN DATA, YOU WILL HAVE TO DO TO YOUR TEST DATA!!!**\n"
   ]
  },
  {
   "cell_type": "markdown",
   "metadata": {
    "collapsed": true
   },
   "source": []
  },
  {
   "cell_type": "markdown",
   "metadata": {},
   "source": [
    "### 7. Run your model on your entire dataset\n",
    "\n",
    "Remember to think:\n",
    "\n",
    "**1. Scripts**  \n",
    "**2. Pipelines**"
   ]
  },
  {
   "cell_type": "code",
   "execution_count": null,
   "metadata": {
    "collapsed": true
   },
   "outputs": [],
   "source": []
  }
 ],
 "metadata": {
  "kernelspec": {
   "display_name": "Python 3",
   "language": "python",
   "name": "python3"
  },
  "language_info": {
   "codemirror_mode": {
    "name": "ipython",
    "version": 3
   },
   "file_extension": ".py",
   "mimetype": "text/x-python",
   "name": "python",
   "nbconvert_exporter": "python",
   "pygments_lexer": "ipython3",
   "version": "3.6.3"
  }
 },
 "nbformat": 4,
 "nbformat_minor": 2
}
